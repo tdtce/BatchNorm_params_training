{
 "cells": [
  {
   "cell_type": "markdown",
   "metadata": {},
   "source": [
    "Объявление названий сетей"
   ]
  },
  {
   "cell_type": "code",
   "execution_count": 1,
   "metadata": {},
   "outputs": [],
   "source": [
    "deep_nets = [\"cifar_resnet_14\", \n",
    "             \"cifar_resnet_32\", \n",
    "             \"cifar_resnet_56\", \n",
    "             \"cifar_resnet_110\",\n",
    "             \"cifar_resnet_218\",]\n",
    "\n",
    "wide_nets = [\"cifar_resnet_14_1\", \n",
    "             \"cifar_resnet_14_2\", \n",
    "             \"cifar_resnet_14_4\", \n",
    "             \"cifar_resnet_14_8\",]\n",
    "\n",
    "# 434, 866, 14_16, 14_32 не используются, в данном эксперименте \n",
    "\n",
    "# Объявим имена архитектур с замороженными весами кроме весов BN\n",
    "deep_freeze_nets = list(map(lambda x: x.replace(\"resnet\", \"freeze\"), deep_nets))\n",
    "wide_freeze_nets = list(map(lambda x: x.replace(\"resnet\", \"freeze\"), wide_nets))\n",
    "\n",
    "models = [*deep_nets, *wide_nets]\n",
    "freeze_models = [*deep_freeze_nets, *wide_freeze_nets]\n",
    "all_models = [*models, *freeze_models]"
   ]
  },
  {
   "cell_type": "markdown",
   "metadata": {},
   "source": [
    "Обучение всех моделей"
   ]
  },
  {
   "cell_type": "code",
   "execution_count": null,
   "metadata": {},
   "outputs": [],
   "source": [
    "num_epoch = 160\n",
    "batch_size = 128\n",
    "lr = 0.1\n",
    "for name in all_models:\n",
    "    # Запуск фреймворка для обучения\n",
    "    %run runner.py --epoch {num_epoch} --batch-size {batch_size} --learning-rate {lr} --model {name} --name {name} --gpu --train\n",
    "    # Логи сохраняются в папку runs\n",
    "    # Веса моделей сохраняются в корневую папку"
   ]
  },
  {
   "cell_type": "markdown",
   "metadata": {},
   "source": [
    "Тестирование всех моделей. Скачать веса можно [здесь](https://drive.google.com/file/d/1CqJVSkHknjAAp7hvVDsaVZTbfNU-bmUY/view?usp=sharing). Веса должны находится в папке Weight. "
   ]
  },
  {
   "cell_type": "code",
   "execution_count": null,
   "metadata": {},
   "outputs": [],
   "source": [
    "batch_size = 128\n",
    "path_weight = \"Weight\"\n",
    "for i, name in enumerate(all_models):\n",
    "    print(f\"Testing {name}   :   {i + 1}/{len(all_models)}\")\n",
    "    current_path = os.path.join(path_weight, name + \"_best.pth\")\n",
    "    %run runner.py --batch-size {batch_size} --model {name} --name {name} --weight-path {current_path}"
   ]
  },
  {
   "cell_type": "markdown",
   "metadata": {},
   "source": [
    "Тренировка и тестирование cifar_resnet_14"
   ]
  },
  {
   "cell_type": "code",
   "execution_count": null,
   "metadata": {},
   "outputs": [],
   "source": [
    "num_epoch = 160 \n",
    "name = \"cifar_resnet_14\"\n",
    "batch_size = 128\n",
    "lr = 0.1\n",
    "%run runner.py --epoch {num_epoch} --batch-size {batch_size} --learning-rate {lr} --model {name} --name {name} --gpu --train\n",
    "%run runner.py --batch-size {batch_size} --model {name} --name {name} --gpu "
   ]
  }
 ],
 "metadata": {
  "kernelspec": {
   "display_name": "Python 3",
   "language": "python",
   "name": "python3"
  },
  "language_info": {
   "codemirror_mode": {
    "name": "ipython",
    "version": 3
   },
   "file_extension": ".py",
   "mimetype": "text/x-python",
   "name": "python",
   "nbconvert_exporter": "python",
   "pygments_lexer": "ipython3",
   "version": "3.7.1"
  }
 },
 "nbformat": 4,
 "nbformat_minor": 4
}
