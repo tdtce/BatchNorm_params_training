{
 "cells": [
  {
   "cell_type": "code",
   "execution_count": 1,
   "metadata": {},
   "outputs": [
    {
     "name": "stdout",
     "output_type": "stream",
     "text": [
      "Files already downloaded and verified\n",
      "Files already downloaded and verified\n"
     ]
    }
   ],
   "source": [
    "from dataloader import get_train_val_loader, get_test_loader\n",
    "from transforms import get_train_transforms, get_val_transforms\n",
    "from transforms import get_test_transforms\n",
    "\n",
    "train_transforms = get_train_transforms()\n",
    "val_transforms = get_val_transforms()\n",
    "\n",
    "train_dataloader, val_dataloader = get_train_val_loader(\"./\",\n",
    "                                                        train_transforms,\n",
    "                                                        val_transforms,\n",
    "                                                        128)"
   ]
  },
  {
   "cell_type": "code",
   "execution_count": 9,
   "metadata": {},
   "outputs": [],
   "source": []
  },
  {
   "cell_type": "code",
   "execution_count": 10,
   "metadata": {},
   "outputs": [
    {
     "data": {
      "text/plain": [
       "0.1"
      ]
     },
     "execution_count": 10,
     "metadata": {},
     "output_type": "execute_result"
    }
   ],
   "source": [
    "get_lr(optimizer)"
   ]
  },
  {
   "cell_type": "code",
   "execution_count": 2,
   "metadata": {},
   "outputs": [],
   "source": [
    "from train import train_one_epoch, validate\n",
    "import torch.nn as nn\n",
    "from torch import optim\n",
    "import sys\n",
    "import numpy as np\n",
    "import torch\n",
    "from argparse import ArgumentParser\n",
    "# from torchsummary import summary\n",
    "from torch.utils.tensorboard import SummaryWriter\n",
    "from dataloader import get_train_val_loader, get_test_loader\n",
    "from transforms import get_train_transforms, get_val_transforms\n",
    "from transforms import get_test_transforms\n",
    "from utils import accuracy\n",
    "from model import build_model"
   ]
  },
  {
   "cell_type": "code",
   "execution_count": 3,
   "metadata": {},
   "outputs": [],
   "source": [
    "device = torch.device(\"cpu\")\n",
    "model = build_model(\"ResNet18\", device)\n",
    "optimizer = optim.SGD(model.parameters(), lr=0.1, momentum=0.9)\n",
    "lr_scheduler = optim.lr_scheduler.ReduceLROnPlateau(optimizer, 'min')\n",
    "loss_fn = nn.CrossEntropyLoss()\n",
    "metric = accuracy\n",
    "# Make config for easy use with functions\n",
    "config = {\"model\" : model,\n",
    "          \"optimizer\" : optimizer,\n",
    "          \"lr_scheduler\" : lr_scheduler,\n",
    "          \"loss_fn\" : loss_fn,\n",
    "          \"metric\" : metric,\n",
    "          \"device\" : device}"
   ]
  },
  {
   "cell_type": "code",
   "execution_count": 4,
   "metadata": {},
   "outputs": [
    {
     "name": "stdout",
     "output_type": "stream",
     "text": [
      "Files already downloaded and verified\n"
     ]
    }
   ],
   "source": [
    "test_transforms = get_test_transforms()\n",
    "test_dataloader = get_test_loader(\"\",\n",
    "                                  test_transforms,\n",
    "                                  128)\n",
    "# Add dataloader in config\n",
    "config.update({\"test_dataloader\" : test_dataloader})\n"
   ]
  },
  {
   "cell_type": "code",
   "execution_count": 5,
   "metadata": {},
   "outputs": [],
   "source": [
    "config.update({\"train_dataloader\" : train_dataloader})\n"
   ]
  },
  {
   "cell_type": "code",
   "execution_count": 134,
   "metadata": {},
   "outputs": [],
   "source": [
    "from PIL import Image\n",
    "from matplotlib import cm\n",
    "im = Image.fromarray(np.uint8(train_dataloader.dataset.data[3]))"
   ]
  },
  {
   "cell_type": "code",
   "execution_count": 141,
   "metadata": {},
   "outputs": [
    {
     "data": {
      "text/plain": [
       "Compose(\n",
       "    RandomVerticalFlip(p=0.5)\n",
       "    RandomCrop(size=(32, 32), padding=4)\n",
       "    ToTensor()\n",
       "    Normalize(mean=[0.485, 0.456, 0.406], std=[0.229, 0.224, 0.225])\n",
       ")"
      ]
     },
     "execution_count": 141,
     "metadata": {},
     "output_type": "execute_result"
    }
   ],
   "source": [
    "train_dataloader.dataset.transform"
   ]
  },
  {
   "cell_type": "code",
   "execution_count": 196,
   "metadata": {},
   "outputs": [],
   "source": [
    "q = torchvision.transforms.RandomCrop(32, 4)"
   ]
  },
  {
   "cell_type": "code",
   "execution_count": 186,
   "metadata": {},
   "outputs": [],
   "source": [
    "import torchvision\n",
    "q = torchvision.transforms.RandomHorizontalFlip(p=0.5)"
   ]
  },
  {
   "cell_type": "code",
   "execution_count": 197,
   "metadata": {},
   "outputs": [
    {
     "data": {
      "image/png": "[encoded data removed]",
      "text/plain": [
       "<PIL.Image.Image image mode=RGB size=32x32 at 0x13F98B550>"
      ]
     },
     "execution_count": 197,
     "metadata": {},
     "output_type": "execute_result"
    }
   ],
   "source": [
    "im"
   ]
  },
  {
   "cell_type": "code",
   "execution_count": 223,
   "metadata": {},
   "outputs": [
    {
     "data": {
      "image/png": "[encoded data removed]",
      "text/plain": [
       "<PIL.Image.Image image mode=RGB size=32x32 at 0x12B2AEF28>"
      ]
     },
     "execution_count": 223,
     "metadata": {},
     "output_type": "execute_result"
    }
   ],
   "source": [
    "q(im)"
   ]
  },
  {
   "cell_type": "code",
   "execution_count": 126,
   "metadata": {
    "scrolled": true
   },
   "outputs": [
    {
     "data": {
      "text/plain": [
       "array([[[ 59,  62,  63],\n",
       "        [ 43,  46,  45],\n",
       "        [ 50,  48,  43],\n",
       "        ...,\n",
       "        [158, 132, 108],\n",
       "        [152, 125, 102],\n",
       "        [148, 124, 103]],\n",
       "\n",
       "       [[ 16,  20,  20],\n",
       "        [  0,   0,   0],\n",
       "        [ 18,   8,   0],\n",
       "        ...,\n",
       "        [123,  88,  55],\n",
       "        [119,  83,  50],\n",
       "        [122,  87,  57]],\n",
       "\n",
       "       [[ 25,  24,  21],\n",
       "        [ 16,   7,   0],\n",
       "        [ 49,  27,   8],\n",
       "        ...,\n",
       "        [118,  84,  50],\n",
       "        [120,  84,  50],\n",
       "        [109,  73,  42]],\n",
       "\n",
       "       ...,\n",
       "\n",
       "       [[208, 170,  96],\n",
       "        [201, 153,  34],\n",
       "        [198, 161,  26],\n",
       "        ...,\n",
       "        [160, 133,  70],\n",
       "        [ 56,  31,   7],\n",
       "        [ 53,  34,  20]],\n",
       "\n",
       "       [[180, 139,  96],\n",
       "        [173, 123,  42],\n",
       "        [186, 144,  30],\n",
       "        ...,\n",
       "        [184, 148,  94],\n",
       "        [ 97,  62,  34],\n",
       "        [ 83,  53,  34]],\n",
       "\n",
       "       [[177, 144, 116],\n",
       "        [168, 129,  94],\n",
       "        [179, 142,  87],\n",
       "        ...,\n",
       "        [216, 184, 140],\n",
       "        [151, 118,  84],\n",
       "        [123,  92,  72]]], dtype=uint8)"
      ]
     },
     "execution_count": 126,
     "metadata": {},
     "output_type": "execute_result"
    }
   ],
   "source": [
    "train_dataloader.dataset.data[0]\n"
   ]
  },
  {
   "cell_type": "code",
   "execution_count": 7,
   "metadata": {},
   "outputs": [],
   "source": [
    "import torchvision.models as models\n",
    "import torch.nn as nn\n",
    "from utils import is_valid_cifar_name, get_plan\n",
    "from resnet_cifar import ResNetCifar\n",
    "from utils import is_valid_cifar_name, get_plan, weight_init"
   ]
  },
  {
   "cell_type": "code",
   "execution_count": 2,
   "metadata": {},
   "outputs": [],
   "source": [
    "name = 'cifar_freeze_110'"
   ]
  },
  {
   "cell_type": "code",
   "execution_count": 3,
   "metadata": {},
   "outputs": [],
   "source": [
    "from model import build_model"
   ]
  },
  {
   "cell_type": "code",
   "execution_count": 10,
   "metadata": {},
   "outputs": [],
   "source": [
    "q = \"cifar_resnet_14\""
   ]
  },
  {
   "cell_type": "code",
   "execution_count": 8,
   "metadata": {},
   "outputs": [
    {
     "name": "stderr",
     "output_type": "stream",
     "text": [
      "                                               \r"
     ]
    }
   ],
   "source": [
    "from test import predict\n",
    "\n",
    "test_predictions, metric_values = predict(config)\n"
   ]
  },
  {
   "cell_type": "code",
   "execution_count": 17,
   "metadata": {},
   "outputs": [
    {
     "ename": "TypeError",
     "evalue": "max() received an invalid combination of arguments - got (list, int), but expected one of:\n * (Tensor input)\n * (Tensor input, name dim, bool keepdim, tuple of Tensors out)\n * (Tensor input, Tensor other, Tensor out)\n * (Tensor input, int dim, bool keepdim, tuple of Tensors out)\n",
     "output_type": "error",
     "traceback": [
      "\u001b[0;31m---------------------------------------------------------\u001b[0m",
      "\u001b[0;31mTypeError\u001b[0m               Traceback (most recent call last)",
      "\u001b[0;32m<ipython-input-17-687b712de4b7>\u001b[0m in \u001b[0;36m<module>\u001b[0;34m\u001b[0m\n\u001b[0;32m----> 1\u001b[0;31m \u001b[0m_\u001b[0m\u001b[0;34m,\u001b[0m \u001b[0mpred_labels\u001b[0m \u001b[0;34m=\u001b[0m \u001b[0mtorch\u001b[0m\u001b[0;34m.\u001b[0m\u001b[0mmax\u001b[0m\u001b[0;34m(\u001b[0m\u001b[0mtest_predictions\u001b[0m\u001b[0;34m,\u001b[0m \u001b[0;36m1\u001b[0m\u001b[0;34m)\u001b[0m\u001b[0;34m\u001b[0m\u001b[0;34m\u001b[0m\u001b[0m\n\u001b[0m",
      "\u001b[0;31mTypeError\u001b[0m: max() received an invalid combination of arguments - got (list, int), but expected one of:\n * (Tensor input)\n * (Tensor input, name dim, bool keepdim, tuple of Tensors out)\n * (Tensor input, Tensor other, Tensor out)\n * (Tensor input, int dim, bool keepdim, tuple of Tensors out)\n"
     ]
    }
   ],
   "source": [
    "_, pred_labels = torch.max(predicitons.data, 1)\n"
   ]
  },
  {
   "cell_type": "code",
   "execution_count": 49,
   "metadata": {},
   "outputs": [
    {
     "data": {
      "text/plain": [
       "tensor(0.4734)"
      ]
     },
     "execution_count": 49,
     "metadata": {},
     "output_type": "execute_result"
    }
   ],
   "source": [
    "test_predictions[0].max()\n"
   ]
  },
  {
   "cell_type": "code",
   "execution_count": 70,
   "metadata": {},
   "outputs": [
    {
     "data": {
      "text/plain": [
       "'1, 2, 3, 4'"
      ]
     },
     "execution_count": 70,
     "metadata": {},
     "output_type": "execute_result"
    }
   ],
   "source": [
    "\", \".join(map(str, c))\n"
   ]
  },
  {
   "cell_type": "code",
   "execution_count": 65,
   "metadata": {
    "scrolled": true
   },
   "outputs": [],
   "source": [
    "c = [1, 2, 3, 4]\n"
   ]
  },
  {
   "cell_type": "code",
   "execution_count": 1,
   "metadata": {},
   "outputs": [
    {
     "name": "stdout",
     "output_type": "stream",
     "text": [
      "Preparation in progress ...\n",
      "Testing mode\n",
      "Files already downloaded and verified\n"
     ]
    },
    {
     "name": "stderr",
     "output_type": "stream",
     "text": [
      "                                               "
     ]
    },
    {
     "name": "stdout",
     "output_type": "stream",
     "text": [
      "Metric value on test = 16.62381329113924\n"
     ]
    },
    {
     "name": "stderr",
     "output_type": "stream",
     "text": [
      "\r"
     ]
    }
   ],
   "source": [
    "%run runner.py --batch-size 128  --model cifar_resnet_14 \n"
   ]
  },
  {
   "cell_type": "code",
   "execution_count": 1,
   "metadata": {},
   "outputs": [
    {
     "name": "stderr",
     "output_type": "stream",
     "text": [
      "usage: Module created for script run in IPython [-h] [--name NAME]\n",
      "                                                [--model MODEL] [--train]\n",
      "                                                [--epoch EPOCH]\n",
      "                                                [--batch-size BATCH_SIZE]\n",
      "                                                [--learning-rate LEARNING_RATE]\n",
      "                                                [--weight-path WEIGHT_PATH]\n",
      "                                                [--gpu] [--data-dir DATA_DIR]\n",
      "Module created for script run in IPython: error: unrecognized arguments: --test\n"
     ]
    },
    {
     "ename": "SystemExit",
     "evalue": "2",
     "output_type": "error",
     "traceback": [
      "An exception has occurred, use %tb to see the full traceback.\n",
      "\u001b[0;31mSystemExit\u001b[0m\u001b[0;31m:\u001b[0m 2\n"
     ]
    }
   ],
   "source": [
    "%run runner.py --batch-size 128 \\\n",
    "                      --model cifar_resnet_14 \\\n",
    "                      --test"
   ]
  },
  {
   "cell_type": "code",
   "execution_count": 11,
   "metadata": {
    "scrolled": true
   },
   "outputs": [
    {
     "name": "stdout",
     "output_type": "stream",
     "text": [
      "Preparation in progress ...\n",
      "0\n",
      "Training mode\n",
      "Reading transforms\n",
      "Reading data\n",
      "Files already downloaded and verified\n",
      "Files already downloaded and verified\n",
      "Start training\n",
      "Starting 1/1 epoch\n",
      "  0%|                                                   | 0/352 [00:00<?, ?it/s]1\n",
      "  0%|                                           | 1/352 [00:00<04:32,  1.29it/s]2\n",
      "  1%|▏                                          | 2/352 [00:01<04:11,  1.39it/s]3\n",
      "  1%|▎                                          | 3/352 [00:01<03:57,  1.47it/s]4\n",
      "  1%|▍                                          | 4/352 [00:02<03:48,  1.53it/s]5\n",
      "  1%|▌                                          | 5/352 [00:03<03:41,  1.57it/s]6\n",
      "  2%|▋                                          | 6/352 [00:03<03:36,  1.60it/s]7\n",
      "  2%|▊                                          | 7/352 [00:04<03:34,  1.61it/s]8\n",
      "  2%|▉                                          | 8/352 [00:04<03:33,  1.61it/s]9\n",
      "  3%|█                                          | 9/352 [00:05<03:36,  1.59it/s]10\n",
      "  3%|█▏                                        | 10/352 [00:06<03:34,  1.59it/s]11\n",
      "  3%|█▎                                        | 11/352 [00:06<03:31,  1.61it/s]12\n",
      "  3%|█▍                                        | 12/352 [00:07<03:29,  1.62it/s]13\n",
      "  4%|█▌                                        | 13/352 [00:08<03:29,  1.62it/s]14\n",
      "  4%|█▋                                        | 14/352 [00:08<03:29,  1.61it/s]15\n",
      "  4%|█▊                                        | 15/352 [00:09<03:28,  1.62it/s]16\n",
      "  5%|█▉                                        | 16/352 [00:09<03:30,  1.60it/s]17\n",
      "  5%|██                                        | 17/352 [00:10<03:30,  1.59it/s]18\n",
      "  5%|██▏                                       | 18/352 [00:11<03:30,  1.59it/s]19\n",
      "  5%|██▎                                       | 19/352 [00:11<03:31,  1.57it/s]20\n",
      "  6%|██▍                                       | 20/352 [00:12<03:29,  1.59it/s]21\n",
      "  6%|██▌                                       | 21/352 [00:13<03:29,  1.58it/s]22\n",
      "  6%|██▋                                       | 22/352 [00:13<03:28,  1.58it/s]23\n",
      "  7%|██▋                                       | 23/352 [00:14<03:28,  1.58it/s]24\n",
      "  7%|██▊                                       | 24/352 [00:15<03:31,  1.55it/s]25\n",
      "  7%|██▉                                       | 25/352 [00:15<03:29,  1.56it/s]26\n",
      "  7%|███                                       | 26/352 [00:16<03:24,  1.59it/s]27\n",
      "  8%|███▏                                      | 27/352 [00:16<03:23,  1.60it/s]28\n",
      "  8%|███▎                                      | 28/352 [00:17<03:21,  1.61it/s]29\n",
      "  8%|███▍                                      | 29/352 [00:18<03:26,  1.57it/s]30\n",
      "  9%|███▌                                      | 30/352 [00:18<03:23,  1.58it/s]31\n",
      "  9%|███▋                                      | 31/352 [00:19<03:19,  1.61it/s]32\n",
      "  9%|███▊                                      | 32/352 [00:20<03:20,  1.60it/s]33\n",
      "  9%|███▉                                      | 33/352 [00:20<03:19,  1.60it/s]34\n",
      " 10%|████                                      | 34/352 [00:21<03:19,  1.60it/s]35\n",
      " 10%|████▏                                     | 35/352 [00:21<03:16,  1.61it/s]36\n",
      " 10%|████▎                                     | 36/352 [00:22<03:15,  1.62it/s]37\n",
      " 11%|████▍                                     | 37/352 [00:23<03:11,  1.65it/s]38\n",
      " 11%|████▌                                     | 38/352 [00:23<03:11,  1.64it/s]39\n",
      " 11%|████▋                                     | 39/352 [00:24<03:11,  1.64it/s]40\n",
      " 11%|████▊                                     | 40/352 [00:24<03:09,  1.64it/s]41\n",
      " 12%|████▉                                     | 41/352 [00:25<03:09,  1.64it/s]42\n",
      " 12%|█████                                     | 42/352 [00:26<03:11,  1.62it/s]43\n",
      " 12%|█████▏                                    | 43/352 [00:26<03:09,  1.63it/s]44\n",
      " 12%|█████▎                                    | 44/352 [00:27<03:11,  1.61it/s]45\n",
      " 13%|█████▎                                    | 45/352 [00:28<03:10,  1.62it/s]46\n",
      " 13%|█████▍                                    | 46/352 [00:28<03:11,  1.60it/s]47\n",
      " 13%|█████▌                                    | 47/352 [00:29<03:11,  1.59it/s]48\n",
      " 14%|█████▋                                    | 48/352 [00:29<03:13,  1.57it/s]49\n",
      " 14%|█████▊                                    | 49/352 [00:30<03:10,  1.59it/s]50\n",
      " 14%|█████▉                                    | 50/352 [00:31<03:06,  1.62it/s]51\n",
      " 14%|██████                                    | 51/352 [00:31<03:07,  1.61it/s]52\n",
      " 15%|██████▏                                   | 52/352 [00:32<03:10,  1.57it/s]53\n",
      " 15%|██████▎                                   | 53/352 [00:33<03:08,  1.59it/s]54\n",
      " 15%|██████▍                                   | 54/352 [00:33<03:06,  1.60it/s]55\n",
      " 16%|██████▌                                   | 55/352 [00:34<03:03,  1.62it/s]56\n",
      " 16%|██████▋                                   | 56/352 [00:34<03:01,  1.63it/s]57\n",
      " 16%|██████▊                                   | 57/352 [00:35<03:01,  1.63it/s]58\n",
      " 16%|██████▉                                   | 58/352 [00:36<03:01,  1.62it/s]59\n",
      " 17%|███████                                   | 59/352 [00:36<03:06,  1.57it/s]60\n",
      " 17%|███████▏                                  | 60/352 [00:37<03:02,  1.60it/s]61\n",
      " 17%|███████▎                                  | 61/352 [00:38<03:00,  1.61it/s]62\n",
      " 18%|███████▍                                  | 62/352 [00:38<03:00,  1.60it/s]63\n",
      " 18%|███████▌                                  | 63/352 [00:39<03:00,  1.60it/s]64\n",
      " 18%|███████▋                                  | 64/352 [00:39<03:01,  1.58it/s]65\n",
      " 18%|███████▊                                  | 65/352 [00:40<03:01,  1.58it/s]66\n",
      " 19%|███████▉                                  | 66/352 [00:41<02:56,  1.62it/s]67\n",
      " 19%|███████▉                                  | 67/352 [00:41<02:56,  1.61it/s]68\n",
      " 19%|████████                                  | 68/352 [00:42<03:01,  1.56it/s]69\n",
      " 20%|████████▏                                 | 69/352 [00:43<03:03,  1.55it/s]70\n",
      " 20%|████████▎                                 | 70/352 [00:43<03:01,  1.55it/s]71\n",
      " 20%|████████▍                                 | 71/352 [00:44<02:58,  1.58it/s]72\n",
      " 20%|████████▌                                 | 72/352 [00:45<02:57,  1.57it/s]73\n",
      " 21%|████████▋                                 | 73/352 [00:45<02:55,  1.59it/s]74\n",
      " 21%|████████▊                                 | 74/352 [00:46<02:55,  1.59it/s]75\n",
      " 21%|████████▉                                 | 75/352 [00:46<02:57,  1.56it/s]76\n",
      " 22%|█████████                                 | 76/352 [00:47<02:58,  1.54it/s]77\n",
      " 22%|█████████▏                                | 77/352 [00:48<02:59,  1.53it/s]78\n",
      " 22%|█████████▎                                | 78/352 [00:48<02:57,  1.54it/s]79\n",
      " 22%|█████████▍                                | 79/352 [00:49<03:02,  1.50it/s]80\n",
      " 23%|█████████▌                                | 80/352 [00:50<03:03,  1.48it/s]81\n",
      " 23%|█████████▋                                | 81/352 [00:50<03:00,  1.50it/s]82\n",
      " 23%|█████████▊                                | 82/352 [00:51<02:57,  1.52it/s]83\n",
      " 24%|█████████▉                                | 83/352 [00:52<02:52,  1.56it/s]84\n",
      " 24%|██████████                                | 84/352 [00:52<02:46,  1.61it/s]85\n",
      " 24%|██████████▏                               | 85/352 [00:53<02:47,  1.60it/s]86\n",
      " 24%|██████████▎                               | 86/352 [00:54<02:45,  1.61it/s]87\n",
      " 25%|██████████▍                               | 87/352 [00:54<02:42,  1.63it/s]88\n",
      " 25%|██████████▌                               | 88/352 [00:55<02:41,  1.64it/s]89\n",
      " 25%|██████████▌                               | 89/352 [00:55<02:39,  1.65it/s]90\n",
      " 26%|██████████▋                               | 90/352 [00:56<02:38,  1.65it/s]91\n",
      " 26%|██████████▊                               | 91/352 [00:57<02:37,  1.66it/s]92\n",
      " 26%|██████████▉                               | 92/352 [00:57<02:36,  1.66it/s]93\n",
      " 26%|███████████                               | 93/352 [00:58<02:35,  1.67it/s]94\n",
      " 27%|███████████▏                              | 94/352 [00:58<02:34,  1.67it/s]95\n",
      " 27%|███████████▎                              | 95/352 [00:59<02:33,  1.68it/s]96\n"
     ]
    },
    {
     "name": "stdout",
     "output_type": "stream",
     "text": [
      " 27%|███████████▍                              | 96/352 [01:00<02:32,  1.68it/s]97\n",
      " 28%|███████████▌                              | 97/352 [01:00<02:31,  1.68it/s]98\n",
      " 28%|███████████▋                              | 98/352 [01:01<02:30,  1.68it/s]99\n",
      " 28%|███████████▊                              | 99/352 [01:01<02:30,  1.68it/s]100\n",
      " 28%|███████████▋                             | 100/352 [01:02<02:29,  1.68it/s]101\n",
      " 29%|███████████▊                             | 101/352 [01:02<02:28,  1.69it/s]102\n",
      " 29%|███████████▉                             | 102/352 [01:03<02:27,  1.69it/s]103\n",
      " 29%|███████████▉                             | 103/352 [01:04<02:26,  1.70it/s]104\n",
      " 30%|████████████                             | 104/352 [01:04<02:30,  1.65it/s]105\n",
      " 30%|████████████▏                            | 105/352 [01:05<02:30,  1.64it/s]106\n",
      " 30%|████████████▎                            | 106/352 [01:06<02:35,  1.58it/s]107\n",
      " 30%|████████████▍                            | 107/352 [01:06<02:34,  1.58it/s]108\n",
      " 31%|████████████▌                            | 108/352 [01:07<02:38,  1.54it/s]109\n",
      " 31%|████████████▋                            | 109/352 [01:08<02:35,  1.56it/s]110\n",
      " 31%|████████████▊                            | 110/352 [01:08<02:33,  1.58it/s]111\n",
      " 32%|████████████▉                            | 111/352 [01:09<02:31,  1.59it/s]112\n",
      " 32%|█████████████                            | 112/352 [01:09<02:31,  1.58it/s]113\n",
      " 32%|█████████████▏                           | 113/352 [01:10<02:31,  1.57it/s]114\n",
      " 32%|█████████████▎                           | 114/352 [01:11<02:31,  1.57it/s]115\n",
      " 33%|█████████████▍                           | 115/352 [01:11<02:30,  1.58it/s]116\n",
      " 33%|█████████████▌                           | 116/352 [01:12<02:30,  1.57it/s]117\n",
      " 33%|█████████████▋                           | 117/352 [01:13<02:27,  1.59it/s]118\n",
      " 34%|█████████████▋                           | 118/352 [01:13<02:26,  1.60it/s]119\n",
      " 34%|█████████████▊                           | 119/352 [01:14<02:24,  1.61it/s]120\n",
      " 34%|█████████████▉                           | 120/352 [01:14<02:23,  1.62it/s]121\n",
      " 34%|██████████████                           | 121/352 [01:15<02:22,  1.62it/s]122\n",
      " 35%|██████████████▏                          | 122/352 [01:16<02:22,  1.62it/s]123\n",
      " 35%|██████████████▎                          | 123/352 [01:16<02:21,  1.62it/s]124\n",
      " 35%|██████████████▍                          | 124/352 [01:17<02:21,  1.62it/s]125\n",
      " 36%|██████████████▌                          | 125/352 [01:18<02:20,  1.62it/s]126\n",
      " 36%|██████████████▋                          | 126/352 [01:18<02:21,  1.60it/s]127\n",
      " 36%|██████████████▊                          | 127/352 [01:19<02:23,  1.57it/s]128\n",
      " 36%|██████████████▉                          | 128/352 [01:19<02:22,  1.57it/s]129\n",
      " 37%|███████████████                          | 129/352 [01:20<02:21,  1.57it/s]130\n",
      " 37%|███████████████▏                         | 130/352 [01:21<02:21,  1.57it/s]131\n",
      " 37%|███████████████▎                         | 131/352 [01:21<02:23,  1.54it/s]132\n",
      " 38%|███████████████▍                         | 132/352 [01:22<02:20,  1.56it/s]133\n",
      " 38%|███████████████▍                         | 133/352 [01:23<02:19,  1.57it/s]134\n",
      " 38%|███████████████▌                         | 134/352 [01:23<02:17,  1.58it/s]135\n",
      " 38%|███████████████▋                         | 135/352 [01:24<02:16,  1.58it/s]136\n",
      " 39%|███████████████▊                         | 136/352 [01:25<02:16,  1.58it/s]137\n",
      " 39%|███████████████▉                         | 137/352 [01:25<02:16,  1.58it/s]138\n",
      " 39%|████████████████                         | 138/352 [01:26<02:14,  1.59it/s]139\n",
      " 39%|████████████████▏                        | 139/352 [01:26<02:14,  1.58it/s]140\n",
      " 40%|████████████████▎                        | 140/352 [01:27<02:13,  1.59it/s]141\n",
      " 40%|████████████████▍                        | 141/352 [01:28<02:10,  1.62it/s]142\n",
      " 40%|████████████████▌                        | 142/352 [01:28<02:07,  1.65it/s]143\n",
      " 41%|████████████████▋                        | 143/352 [01:29<02:05,  1.66it/s]144\n",
      " 41%|████████████████▊                        | 144/352 [01:29<02:04,  1.67it/s]145\n",
      " 41%|████████████████▉                        | 145/352 [01:30<02:03,  1.68it/s]146\n",
      " 41%|█████████████████                        | 146/352 [01:31<02:01,  1.69it/s]147\n",
      " 42%|█████████████████                        | 147/352 [01:31<02:00,  1.69it/s]148\n",
      " 42%|█████████████████▏                       | 148/352 [01:32<01:59,  1.70it/s]149\n",
      " 42%|█████████████████▎                       | 149/352 [01:32<01:58,  1.71it/s]150\n",
      " 43%|█████████████████▍                       | 150/352 [01:33<01:57,  1.72it/s]151\n",
      " 43%|█████████████████▌                       | 151/352 [01:33<01:56,  1.72it/s]152\n",
      " 43%|█████████████████▋                       | 152/352 [01:34<01:56,  1.72it/s]153\n",
      " 43%|█████████████████▊                       | 153/352 [01:35<01:55,  1.72it/s]154\n",
      " 44%|█████████████████▉                       | 154/352 [01:35<01:55,  1.72it/s]155\n",
      " 44%|██████████████████                       | 155/352 [01:36<01:54,  1.72it/s]156\n",
      " 44%|██████████████████▏                      | 156/352 [01:36<01:54,  1.72it/s]157\n",
      " 45%|██████████████████▎                      | 157/352 [01:37<01:53,  1.72it/s]158\n",
      " 45%|██████████████████▍                      | 158/352 [01:38<01:52,  1.72it/s]159\n",
      " 45%|██████████████████▌                      | 159/352 [01:38<01:51,  1.73it/s]160\n",
      " 45%|██████████████████▋                      | 160/352 [01:39<01:51,  1.73it/s]161\n",
      " 46%|██████████████████▊                      | 161/352 [01:39<01:50,  1.73it/s]162\n",
      " 46%|██████████████████▊                      | 162/352 [01:40<01:50,  1.72it/s]163\n",
      " 46%|██████████████████▉                      | 163/352 [01:40<01:49,  1.72it/s]164\n",
      " 47%|███████████████████                      | 164/352 [01:41<01:48,  1.73it/s]165\n",
      " 47%|███████████████████▏                     | 165/352 [01:42<01:48,  1.73it/s]166\n",
      " 47%|███████████████████▎                     | 166/352 [01:42<01:48,  1.72it/s]167\n",
      " 47%|███████████████████▍                     | 167/352 [01:43<01:47,  1.71it/s]168\n",
      " 48%|███████████████████▌                     | 168/352 [01:43<01:47,  1.71it/s]169\n",
      " 48%|███████████████████▋                     | 169/352 [01:44<01:47,  1.71it/s]170\n",
      " 48%|███████████████████▊                     | 170/352 [01:45<01:46,  1.71it/s]171\n",
      " 49%|███████████████████▉                     | 171/352 [01:45<01:45,  1.71it/s]172\n",
      " 49%|████████████████████                     | 172/352 [01:46<01:45,  1.71it/s]173\n",
      " 49%|████████████████████▏                    | 173/352 [01:46<01:44,  1.71it/s]174\n",
      " 49%|████████████████████▎                    | 174/352 [01:47<01:43,  1.71it/s]175\n",
      " 50%|████████████████████▍                    | 175/352 [01:47<01:43,  1.71it/s]176\n",
      " 50%|████████████████████▌                    | 176/352 [01:48<01:42,  1.71it/s]177\n",
      " 50%|████████████████████▌                    | 177/352 [01:49<01:41,  1.72it/s]178\n",
      " 51%|████████████████████▋                    | 178/352 [01:49<01:40,  1.72it/s]179\n",
      " 51%|████████████████████▊                    | 179/352 [01:50<01:41,  1.71it/s]180\n",
      " 51%|████████████████████▉                    | 180/352 [01:50<01:44,  1.64it/s]181\n",
      " 51%|█████████████████████                    | 181/352 [01:51<01:43,  1.66it/s]182\n",
      " 52%|█████████████████████▏                   | 182/352 [01:52<01:43,  1.64it/s]183\n",
      " 52%|█████████████████████▎                   | 183/352 [01:52<01:43,  1.64it/s]184\n",
      " 52%|█████████████████████▍                   | 184/352 [01:53<01:43,  1.62it/s]185\n",
      " 53%|█████████████████████▌                   | 185/352 [01:54<01:45,  1.59it/s]186\n",
      " 53%|█████████████████████▋                   | 186/352 [01:54<01:44,  1.59it/s]187\n",
      " 53%|█████████████████████▊                   | 187/352 [01:55<01:45,  1.57it/s]188\n",
      " 53%|█████████████████████▉                   | 188/352 [01:55<01:43,  1.59it/s]189\n",
      " 54%|██████████████████████                   | 189/352 [01:56<01:41,  1.60it/s]190\n",
      " 54%|██████████████████████▏                  | 190/352 [01:57<01:42,  1.58it/s]191\n",
      " 54%|██████████████████████▏                  | 191/352 [01:57<01:40,  1.60it/s]192\n",
      " 55%|██████████████████████▎                  | 192/352 [01:58<01:38,  1.62it/s]193\n"
     ]
    },
    {
     "name": "stdout",
     "output_type": "stream",
     "text": [
      " 55%|██████████████████████▍                  | 193/352 [01:59<01:37,  1.63it/s]194\n",
      " 55%|██████████████████████▌                  | 194/352 [01:59<01:36,  1.64it/s]195\n",
      " 55%|██████████████████████▋                  | 195/352 [02:00<01:37,  1.62it/s]196\n",
      " 56%|██████████████████████▊                  | 196/352 [02:00<01:38,  1.59it/s]197\n",
      " 56%|██████████████████████▉                  | 197/352 [02:01<01:36,  1.60it/s]198\n",
      " 56%|███████████████████████                  | 198/352 [02:02<01:36,  1.60it/s]199\n",
      " 57%|███████████████████████▏                 | 199/352 [02:02<01:38,  1.55it/s]200\n",
      " 57%|███████████████████████▎                 | 200/352 [02:03<01:40,  1.51it/s]201\n",
      " 57%|███████████████████████▍                 | 201/352 [02:04<01:38,  1.53it/s]202\n",
      " 57%|███████████████████████▌                 | 202/352 [02:04<01:37,  1.54it/s]203\n",
      " 58%|███████████████████████▋                 | 203/352 [02:05<01:37,  1.52it/s]204\n",
      " 58%|███████████████████████▊                 | 204/352 [02:06<01:36,  1.53it/s]205\n",
      " 58%|███████████████████████▉                 | 205/352 [02:06<01:34,  1.55it/s]206\n",
      " 59%|███████████████████████▉                 | 206/352 [02:07<01:33,  1.56it/s]207\n",
      " 59%|████████████████████████                 | 207/352 [02:08<01:34,  1.54it/s]208\n",
      " 59%|████████████████████████▏                | 208/352 [02:08<01:34,  1.53it/s]209\n",
      " 59%|████████████████████████▎                | 209/352 [02:09<01:33,  1.53it/s]210\n",
      " 60%|████████████████████████▍                | 210/352 [02:10<01:31,  1.56it/s]211\n",
      " 60%|████████████████████████▌                | 211/352 [02:10<01:29,  1.58it/s]212\n",
      " 60%|████████████████████████▋                | 212/352 [02:11<01:27,  1.60it/s]213\n",
      " 61%|████████████████████████▊                | 213/352 [02:11<01:27,  1.60it/s]214\n",
      " 61%|████████████████████████▉                | 214/352 [02:12<01:27,  1.57it/s]215\n",
      " 61%|█████████████████████████                | 215/352 [02:13<01:26,  1.58it/s]216\n",
      " 61%|█████████████████████████▏               | 216/352 [02:13<01:25,  1.60it/s]217\n",
      " 62%|█████████████████████████▎               | 217/352 [02:14<01:24,  1.60it/s]218\n",
      " 62%|█████████████████████████▍               | 218/352 [02:15<01:24,  1.58it/s]219\n",
      " 62%|█████████████████████████▌               | 219/352 [02:15<01:24,  1.58it/s]220\n",
      " 62%|█████████████████████████▋               | 220/352 [02:16<01:23,  1.59it/s]221\n",
      " 63%|█████████████████████████▋               | 221/352 [02:16<01:21,  1.61it/s]222\n",
      " 63%|█████████████████████████▊               | 222/352 [02:17<01:24,  1.54it/s]223\n",
      " 63%|█████████████████████████▉               | 223/352 [02:18<01:24,  1.52it/s]224\n",
      " 64%|██████████████████████████               | 224/352 [02:18<01:23,  1.54it/s]225\n",
      " 64%|██████████████████████████▏              | 225/352 [02:19<01:21,  1.55it/s]226\n",
      " 64%|██████████████████████████▎              | 226/352 [02:20<01:21,  1.56it/s]227\n",
      " 64%|██████████████████████████▍              | 227/352 [02:20<01:21,  1.53it/s]228\n",
      " 65%|██████████████████████████▌              | 228/352 [02:21<01:20,  1.53it/s]229\n",
      " 65%|██████████████████████████▋              | 229/352 [02:22<01:19,  1.55it/s]230\n",
      " 65%|██████████████████████████▊              | 230/352 [02:22<01:18,  1.55it/s]231\n",
      " 66%|██████████████████████████▉              | 231/352 [02:23<01:17,  1.57it/s]232\n",
      " 66%|███████████████████████████              | 232/352 [02:23<01:15,  1.59it/s]233\n",
      " 66%|███████████████████████████▏             | 233/352 [02:24<01:14,  1.61it/s]234\n",
      " 66%|███████████████████████████▎             | 234/352 [02:25<01:13,  1.61it/s]235\n",
      " 67%|███████████████████████████▎             | 235/352 [02:25<01:11,  1.63it/s]236\n",
      " 67%|███████████████████████████▍             | 236/352 [02:26<01:12,  1.60it/s]237\n",
      " 67%|███████████████████████████▌             | 237/352 [02:27<01:11,  1.61it/s]238\n",
      " 68%|███████████████████████████▋             | 238/352 [02:27<01:10,  1.62it/s]239\n",
      " 68%|███████████████████████████▊             | 239/352 [02:28<01:09,  1.62it/s]240\n",
      " 68%|███████████████████████████▉             | 240/352 [02:28<01:10,  1.59it/s]241\n",
      " 68%|████████████████████████████             | 241/352 [02:29<01:09,  1.60it/s]242\n",
      " 69%|████████████████████████████▏            | 242/352 [02:30<01:08,  1.61it/s]243\n",
      " 69%|████████████████████████████▎            | 243/352 [02:30<01:06,  1.63it/s]244\n",
      " 69%|████████████████████████████▍            | 244/352 [02:31<01:05,  1.64it/s]245\n",
      " 70%|████████████████████████████▌            | 245/352 [02:32<01:05,  1.62it/s]246\n",
      " 70%|████████████████████████████▋            | 246/352 [02:32<01:04,  1.63it/s]247\n",
      " 70%|████████████████████████████▊            | 247/352 [02:33<01:04,  1.63it/s]248\n",
      " 70%|████████████████████████████▉            | 248/352 [02:33<01:03,  1.64it/s]249\n",
      " 71%|█████████████████████████████            | 249/352 [02:34<01:02,  1.64it/s]250\n",
      " 71%|█████████████████████████████            | 250/352 [02:35<01:02,  1.63it/s]251\n",
      " 71%|█████████████████████████████▏           | 251/352 [02:35<01:02,  1.62it/s]252\n",
      " 72%|█████████████████████████████▎           | 252/352 [02:36<01:01,  1.62it/s]253\n",
      " 72%|█████████████████████████████▍           | 253/352 [02:36<01:00,  1.62it/s]254\n",
      " 72%|█████████████████████████████▌           | 254/352 [02:37<01:00,  1.63it/s]255\n",
      " 72%|█████████████████████████████▋           | 255/352 [02:38<00:59,  1.64it/s]256\n",
      " 73%|█████████████████████████████▊           | 256/352 [02:38<00:58,  1.64it/s]257\n",
      " 73%|█████████████████████████████▉           | 257/352 [02:39<00:57,  1.65it/s]258\n",
      " 73%|██████████████████████████████           | 258/352 [02:40<00:58,  1.61it/s]259\n",
      " 74%|██████████████████████████████▏          | 259/352 [02:40<00:58,  1.59it/s]260\n",
      " 74%|██████████████████████████████▎          | 260/352 [02:41<00:57,  1.59it/s]261\n",
      " 74%|██████████████████████████████▍          | 261/352 [02:41<00:56,  1.61it/s]262\n",
      " 74%|██████████████████████████████▌          | 262/352 [02:42<00:58,  1.53it/s]263\n",
      " 75%|██████████████████████████████▋          | 263/352 [02:43<00:58,  1.53it/s]264\n",
      " 75%|██████████████████████████████▊          | 264/352 [02:43<00:57,  1.54it/s]265\n",
      " 75%|██████████████████████████████▊          | 265/352 [02:44<00:56,  1.54it/s]266\n",
      " 76%|██████████████████████████████▉          | 266/352 [02:45<00:55,  1.56it/s]267\n",
      " 76%|███████████████████████████████          | 267/352 [02:45<00:53,  1.59it/s]268\n",
      " 76%|███████████████████████████████▏         | 268/352 [02:46<00:52,  1.60it/s]269\n",
      " 76%|███████████████████████████████▎         | 269/352 [02:47<00:51,  1.60it/s]270\n",
      " 77%|███████████████████████████████▍         | 270/352 [02:47<00:51,  1.59it/s]271\n",
      " 77%|███████████████████████████████▌         | 271/352 [02:48<00:51,  1.58it/s]272\n",
      " 77%|███████████████████████████████▋         | 272/352 [02:48<00:50,  1.60it/s]273\n",
      " 78%|███████████████████████████████▊         | 273/352 [02:49<00:48,  1.63it/s]274\n",
      " 78%|███████████████████████████████▉         | 274/352 [02:50<00:48,  1.60it/s]275\n",
      " 78%|████████████████████████████████         | 275/352 [02:50<00:48,  1.60it/s]276\n",
      " 78%|████████████████████████████████▏        | 276/352 [02:51<00:47,  1.60it/s]277\n",
      " 79%|████████████████████████████████▎        | 277/352 [02:52<00:47,  1.59it/s]278\n",
      " 79%|████████████████████████████████▍        | 278/352 [02:52<00:46,  1.58it/s]279\n",
      " 79%|████████████████████████████████▍        | 279/352 [02:53<00:46,  1.58it/s]280\n",
      " 80%|████████████████████████████████▌        | 280/352 [02:53<00:45,  1.58it/s]281\n",
      " 80%|████████████████████████████████▋        | 281/352 [02:54<00:45,  1.57it/s]282\n",
      " 80%|████████████████████████████████▊        | 282/352 [02:55<00:44,  1.56it/s]283\n",
      " 80%|████████████████████████████████▉        | 283/352 [02:55<00:44,  1.57it/s]284\n",
      " 81%|█████████████████████████████████        | 284/352 [02:56<00:43,  1.58it/s]285\n",
      " 81%|█████████████████████████████████▏       | 285/352 [02:57<00:41,  1.60it/s]286\n",
      " 81%|█████████████████████████████████▎       | 286/352 [02:57<00:40,  1.61it/s]287\n",
      " 82%|█████████████████████████████████▍       | 287/352 [02:58<00:40,  1.61it/s]288\n",
      " 82%|█████████████████████████████████▌       | 288/352 [02:58<00:39,  1.62it/s]289\n",
      " 82%|█████████████████████████████████▋       | 289/352 [02:59<00:38,  1.63it/s]290\n"
     ]
    },
    {
     "name": "stdout",
     "output_type": "stream",
     "text": [
      " 82%|█████████████████████████████████▊       | 290/352 [03:00<00:38,  1.61it/s]291\n",
      " 83%|█████████████████████████████████▉       | 291/352 [03:00<00:38,  1.60it/s]292\n",
      " 83%|██████████████████████████████████       | 292/352 [03:01<00:37,  1.61it/s]293\n",
      " 83%|██████████████████████████████████▏      | 293/352 [03:02<00:36,  1.62it/s]294\n",
      " 84%|██████████████████████████████████▏      | 294/352 [03:02<00:35,  1.63it/s]295\n",
      " 84%|██████████████████████████████████▎      | 295/352 [03:03<00:34,  1.64it/s]296\n",
      " 84%|██████████████████████████████████▍      | 296/352 [03:03<00:34,  1.64it/s]297\n",
      " 84%|██████████████████████████████████▌      | 297/352 [03:04<00:33,  1.62it/s]298\n",
      " 85%|██████████████████████████████████▋      | 298/352 [03:05<00:33,  1.63it/s]299\n",
      " 85%|██████████████████████████████████▊      | 299/352 [03:05<00:32,  1.61it/s]300\n",
      " 85%|██████████████████████████████████▉      | 300/352 [03:06<00:32,  1.62it/s]301\n",
      " 86%|███████████████████████████████████      | 301/352 [03:06<00:31,  1.63it/s]302\n",
      " 86%|███████████████████████████████████▏     | 302/352 [03:07<00:30,  1.63it/s]303\n",
      " 86%|███████████████████████████████████▎     | 303/352 [03:08<00:29,  1.64it/s]304\n",
      " 86%|███████████████████████████████████▍     | 304/352 [03:08<00:29,  1.64it/s]305\n",
      " 87%|███████████████████████████████████▌     | 305/352 [03:09<00:28,  1.64it/s]306\n",
      " 87%|███████████████████████████████████▋     | 306/352 [03:10<00:29,  1.58it/s]307\n",
      " 87%|███████████████████████████████████▊     | 307/352 [03:10<00:28,  1.61it/s]308\n",
      " 88%|███████████████████████████████████▉     | 308/352 [03:11<00:28,  1.55it/s]309\n",
      " 88%|███████████████████████████████████▉     | 309/352 [03:11<00:27,  1.58it/s]310\n",
      " 88%|████████████████████████████████████     | 310/352 [03:12<00:26,  1.60it/s]311\n",
      " 88%|████████████████████████████████████▏    | 311/352 [03:13<00:25,  1.60it/s]312\n",
      " 89%|████████████████████████████████████▎    | 312/352 [03:13<00:25,  1.57it/s]313\n",
      " 89%|████████████████████████████████████▍    | 313/352 [03:14<00:24,  1.59it/s]314\n",
      " 89%|████████████████████████████████████▌    | 314/352 [03:15<00:24,  1.55it/s]315\n",
      " 89%|████████████████████████████████████▋    | 315/352 [03:15<00:24,  1.53it/s]316\n",
      " 90%|████████████████████████████████████▊    | 316/352 [03:16<00:23,  1.54it/s]317\n",
      " 90%|████████████████████████████████████▉    | 317/352 [03:17<00:22,  1.56it/s]318\n",
      " 90%|█████████████████████████████████████    | 318/352 [03:17<00:21,  1.56it/s]319\n",
      " 91%|█████████████████████████████████████▏   | 319/352 [03:18<00:20,  1.59it/s]320\n",
      " 91%|█████████████████████████████████████▎   | 320/352 [03:18<00:19,  1.61it/s]321\n",
      " 91%|█████████████████████████████████████▍   | 321/352 [03:19<00:18,  1.63it/s]322\n",
      " 91%|█████████████████████████████████████▌   | 322/352 [03:20<00:18,  1.60it/s]323\n",
      " 92%|█████████████████████████████████████▌   | 323/352 [03:20<00:18,  1.60it/s]324\n",
      " 92%|█████████████████████████████████████▋   | 324/352 [03:21<00:17,  1.58it/s]325\n",
      " 92%|█████████████████████████████████████▊   | 325/352 [03:22<00:16,  1.59it/s]326\n",
      " 93%|█████████████████████████████████████▉   | 326/352 [03:22<00:16,  1.59it/s]327\n",
      " 93%|██████████████████████████████████████   | 327/352 [03:23<00:15,  1.60it/s]328\n",
      " 93%|██████████████████████████████████████▏  | 328/352 [03:23<00:15,  1.58it/s]329\n",
      " 93%|██████████████████████████████████████▎  | 329/352 [03:24<00:14,  1.57it/s]330\n",
      " 94%|██████████████████████████████████████▍  | 330/352 [03:25<00:14,  1.57it/s]331\n",
      " 94%|██████████████████████████████████████▌  | 331/352 [03:25<00:13,  1.54it/s]332\n",
      " 94%|██████████████████████████████████████▋  | 332/352 [03:26<00:12,  1.58it/s]333\n",
      " 95%|██████████████████████████████████████▊  | 333/352 [03:27<00:12,  1.58it/s]334\n",
      " 95%|██████████████████████████████████████▉  | 334/352 [03:27<00:11,  1.61it/s]335\n",
      " 95%|███████████████████████████████████████  | 335/352 [03:28<00:10,  1.60it/s]336\n",
      " 95%|███████████████████████████████████████▏ | 336/352 [03:29<00:10,  1.57it/s]337\n",
      " 96%|███████████████████████████████████████▎ | 337/352 [03:29<00:09,  1.57it/s]338\n",
      " 96%|███████████████████████████████████████▎ | 338/352 [03:30<00:08,  1.59it/s]339\n",
      " 96%|███████████████████████████████████████▍ | 339/352 [03:30<00:08,  1.60it/s]340\n",
      " 97%|███████████████████████████████████████▌ | 340/352 [03:31<00:07,  1.61it/s]341\n",
      " 97%|███████████████████████████████████████▋ | 341/352 [03:32<00:07,  1.56it/s]342\n",
      " 97%|███████████████████████████████████████▊ | 342/352 [03:32<00:06,  1.59it/s]343\n",
      " 97%|███████████████████████████████████████▉ | 343/352 [03:33<00:05,  1.62it/s]344\n",
      " 98%|████████████████████████████████████████ | 344/352 [03:34<00:04,  1.64it/s]345\n",
      " 98%|████████████████████████████████████████▏| 345/352 [03:34<00:04,  1.66it/s]346\n",
      " 98%|████████████████████████████████████████▎| 346/352 [03:35<00:03,  1.68it/s]347\n",
      " 99%|████████████████████████████████████████▍| 347/352 [03:35<00:02,  1.69it/s]348\n",
      " 99%|████████████████████████████████████████▌| 348/352 [03:36<00:02,  1.70it/s]349\n",
      " 99%|████████████████████████████████████████▋| 349/352 [03:36<00:01,  1.71it/s]350\n",
      " 99%|████████████████████████████████████████▊| 350/352 [03:37<00:01,  1.71it/s]351\n",
      "100%|████████████████████████████████████████▉| 351/352 [03:38<00:00,  1.71it/s]352\n",
      "Epoch 1/1:   train loss = 1.67   |   val loss = 1.55   |   accuracy = 41.89%    \n",
      "learning rate = 0.001\n",
      "Training is over! \n",
      "Best validation loss = 1.5460894048213958 \n",
      "Accuracy for best loss = 41.89453125\n"
     ]
    }
   ],
   "source": [
    "!python runner.py --train --epoch 1 --batch-size 128 --learning-rate 0.1 --model cifar_resnet_14"
   ]
  },
  {
   "cell_type": "code",
   "execution_count": null,
   "metadata": {},
   "outputs": [],
   "source": []
  },
  {
   "cell_type": "code",
   "execution_count": 19,
   "metadata": {
    "scrolled": true
   },
   "outputs": [],
   "source": [
    "if name.startswith('cifar_resnet_'):\n",
    "    if not is_valid_cifar_name(name):\n",
    "        raise ValueError(f'Invalid model name: {name}')\n",
    "\n",
    "# initializer = nn.init.xavier_uniform\n",
    "# plan = get_plan(name)\n",
    "model = build_model(name, \"cpu\")\n",
    "# model.to(device)\n",
    "# return model"
   ]
  },
  {
   "cell_type": "code",
   "execution_count": 6,
   "metadata": {},
   "outputs": [],
   "source": [
    "name = \"cifar_resnet_14\""
   ]
  },
  {
   "cell_type": "code",
   "execution_count": 7,
   "metadata": {
    "scrolled": true
   },
   "outputs": [],
   "source": [
    "model = build_model(name, \"cpu\")"
   ]
  },
  {
   "cell_type": "code",
   "execution_count": null,
   "metadata": {},
   "outputs": [],
   "source": []
  },
  {
   "cell_type": "code",
   "execution_count": 116,
   "metadata": {},
   "outputs": [],
   "source": [
    "pytorch_total_params = sum(p.numel() for p in model.parameters())\n"
   ]
  },
  {
   "cell_type": "code",
   "execution_count": 117,
   "metadata": {},
   "outputs": [
    {
     "name": "stdout",
     "output_type": "stream",
     "text": [
      "----------------------------------------------------------------\n",
      "        Layer (type)               Output Shape         Param #\n",
      "================================================================\n",
      "            Conv2d-1           [-1, 16, 32, 32]             432\n",
      "       BatchNorm2d-2           [-1, 16, 32, 32]              32\n",
      "            Conv2d-3           [-1, 16, 32, 32]           2,304\n",
      "       BatchNorm2d-4           [-1, 16, 32, 32]              32\n",
      "            Conv2d-5           [-1, 16, 32, 32]           2,304\n",
      "       BatchNorm2d-6           [-1, 16, 32, 32]              32\n",
      "       ResNetBlock-7           [-1, 16, 32, 32]               0\n",
      "            Conv2d-8           [-1, 16, 32, 32]           2,304\n",
      "       BatchNorm2d-9           [-1, 16, 32, 32]              32\n",
      "           Conv2d-10           [-1, 16, 32, 32]           2,304\n",
      "      BatchNorm2d-11           [-1, 16, 32, 32]              32\n",
      "      ResNetBlock-12           [-1, 16, 32, 32]               0\n",
      "           Conv2d-13           [-1, 32, 16, 16]           4,608\n",
      "      BatchNorm2d-14           [-1, 32, 16, 16]              64\n",
      "           Conv2d-15           [-1, 32, 16, 16]           9,216\n",
      "      BatchNorm2d-16           [-1, 32, 16, 16]              64\n",
      "           Conv2d-17           [-1, 32, 16, 16]             512\n",
      "      BatchNorm2d-18           [-1, 32, 16, 16]              64\n",
      "      ResNetBlock-19           [-1, 32, 16, 16]               0\n",
      "           Conv2d-20           [-1, 32, 16, 16]           9,216\n",
      "      BatchNorm2d-21           [-1, 32, 16, 16]              64\n",
      "           Conv2d-22           [-1, 32, 16, 16]           9,216\n",
      "      BatchNorm2d-23           [-1, 32, 16, 16]              64\n",
      "      ResNetBlock-24           [-1, 32, 16, 16]               0\n",
      "           Conv2d-25             [-1, 64, 8, 8]          18,432\n",
      "      BatchNorm2d-26             [-1, 64, 8, 8]             128\n",
      "           Conv2d-27             [-1, 64, 8, 8]          36,864\n",
      "      BatchNorm2d-28             [-1, 64, 8, 8]             128\n",
      "           Conv2d-29             [-1, 64, 8, 8]           2,048\n",
      "      BatchNorm2d-30             [-1, 64, 8, 8]             128\n",
      "      ResNetBlock-31             [-1, 64, 8, 8]               0\n",
      "           Conv2d-32             [-1, 64, 8, 8]          36,864\n",
      "      BatchNorm2d-33             [-1, 64, 8, 8]             128\n",
      "           Conv2d-34             [-1, 64, 8, 8]          36,864\n",
      "      BatchNorm2d-35             [-1, 64, 8, 8]             128\n",
      "      ResNetBlock-36             [-1, 64, 8, 8]               0\n",
      "           Linear-37                   [-1, 10]             650\n",
      "================================================================\n",
      "Total params: 175,258\n",
      "Trainable params: 175,258\n",
      "Non-trainable params: 0\n",
      "----------------------------------------------------------------\n",
      "Input size (MB): 0.01\n",
      "Forward/backward pass size (MB): 2.63\n",
      "Params size (MB): 0.67\n",
      "Estimated Total Size (MB): 3.31\n",
      "----------------------------------------------------------------\n"
     ]
    }
   ],
   "source": [
    "from torchsummary import summary\n",
    "\n",
    "summary(model, (3, 32, 32))"
   ]
  },
  {
   "cell_type": "code",
   "execution_count": 118,
   "metadata": {
    "scrolled": true
   },
   "outputs": [
    {
     "name": "stdout",
     "output_type": "stream",
     "text": [
      "ResNetCifar(\n",
      "  (conv): Conv2d(3, 16, kernel_size=(3, 3), stride=(1, 1), padding=(1, 1), bias=False)\n",
      "  (bn): BatchNorm2d(16, eps=1e-05, momentum=0.1, affine=True, track_running_stats=True)\n",
      "  (blocks): Sequential(\n",
      "    (0): ResNetBlock(\n",
      "      (conv1): Conv2d(16, 16, kernel_size=(3, 3), stride=(1, 1), padding=(1, 1), bias=False)\n",
      "      (bn1): BatchNorm2d(16, eps=1e-05, momentum=0.1, affine=True, track_running_stats=True)\n",
      "      (conv2): Conv2d(16, 16, kernel_size=(3, 3), stride=(1, 1), padding=(1, 1), bias=False)\n",
      "      (bn2): BatchNorm2d(16, eps=1e-05, momentum=0.1, affine=True, track_running_stats=True)\n",
      "      (skip): Sequential()\n",
      "    )\n",
      "    (1): ResNetBlock(\n",
      "      (conv1): Conv2d(16, 16, kernel_size=(3, 3), stride=(1, 1), padding=(1, 1), bias=False)\n",
      "      (bn1): BatchNorm2d(16, eps=1e-05, momentum=0.1, affine=True, track_running_stats=True)\n",
      "      (conv2): Conv2d(16, 16, kernel_size=(3, 3), stride=(1, 1), padding=(1, 1), bias=False)\n",
      "      (bn2): BatchNorm2d(16, eps=1e-05, momentum=0.1, affine=True, track_running_stats=True)\n",
      "      (skip): Sequential()\n",
      "    )\n",
      "    (2): ResNetBlock(\n",
      "      (conv1): Conv2d(16, 32, kernel_size=(3, 3), stride=(2, 2), padding=(1, 1), bias=False)\n",
      "      (bn1): BatchNorm2d(32, eps=1e-05, momentum=0.1, affine=True, track_running_stats=True)\n",
      "      (conv2): Conv2d(32, 32, kernel_size=(3, 3), stride=(1, 1), padding=(1, 1), bias=False)\n",
      "      (bn2): BatchNorm2d(32, eps=1e-05, momentum=0.1, affine=True, track_running_stats=True)\n",
      "      (skip): Sequential(\n",
      "        (0): Conv2d(16, 32, kernel_size=(1, 1), stride=(2, 2), bias=False)\n",
      "        (1): BatchNorm2d(32, eps=1e-05, momentum=0.1, affine=True, track_running_stats=True)\n",
      "      )\n",
      "    )\n",
      "    (3): ResNetBlock(\n",
      "      (conv1): Conv2d(32, 32, kernel_size=(3, 3), stride=(1, 1), padding=(1, 1), bias=False)\n",
      "      (bn1): BatchNorm2d(32, eps=1e-05, momentum=0.1, affine=True, track_running_stats=True)\n",
      "      (conv2): Conv2d(32, 32, kernel_size=(3, 3), stride=(1, 1), padding=(1, 1), bias=False)\n",
      "      (bn2): BatchNorm2d(32, eps=1e-05, momentum=0.1, affine=True, track_running_stats=True)\n",
      "      (skip): Sequential()\n",
      "    )\n",
      "    (4): ResNetBlock(\n",
      "      (conv1): Conv2d(32, 64, kernel_size=(3, 3), stride=(2, 2), padding=(1, 1), bias=False)\n",
      "      (bn1): BatchNorm2d(64, eps=1e-05, momentum=0.1, affine=True, track_running_stats=True)\n",
      "      (conv2): Conv2d(64, 64, kernel_size=(3, 3), stride=(1, 1), padding=(1, 1), bias=False)\n",
      "      (bn2): BatchNorm2d(64, eps=1e-05, momentum=0.1, affine=True, track_running_stats=True)\n",
      "      (skip): Sequential(\n",
      "        (0): Conv2d(32, 64, kernel_size=(1, 1), stride=(2, 2), bias=False)\n",
      "        (1): BatchNorm2d(64, eps=1e-05, momentum=0.1, affine=True, track_running_stats=True)\n",
      "      )\n",
      "    )\n",
      "    (5): ResNetBlock(\n",
      "      (conv1): Conv2d(64, 64, kernel_size=(3, 3), stride=(1, 1), padding=(1, 1), bias=False)\n",
      "      (bn1): BatchNorm2d(64, eps=1e-05, momentum=0.1, affine=True, track_running_stats=True)\n",
      "      (conv2): Conv2d(64, 64, kernel_size=(3, 3), stride=(1, 1), padding=(1, 1), bias=False)\n",
      "      (bn2): BatchNorm2d(64, eps=1e-05, momentum=0.1, affine=True, track_running_stats=True)\n",
      "      (skip): Sequential()\n",
      "    )\n",
      "  )\n",
      "  (fc): Linear(in_features=64, out_features=10, bias=True)\n",
      ")\n"
     ]
    }
   ],
   "source": [
    "print(model)"
   ]
  },
  {
   "cell_type": "code",
   "execution_count": 104,
   "metadata": {},
   "outputs": [
    {
     "data": {
      "text/plain": [
       "2988"
      ]
     },
     "execution_count": 104,
     "metadata": {},
     "output_type": "execute_result"
    }
   ],
   "source": [
    "pytorch_total_params"
   ]
  },
  {
   "cell_type": "code",
   "execution_count": null,
   "metadata": {},
   "outputs": [],
   "source": []
  }
 ],
 "metadata": {
  "kernelspec": {
   "display_name": "Python 3",
   "language": "python",
   "name": "python3"
  },
  "language_info": {
   "codemirror_mode": {
    "name": "ipython",
    "version": 3
   },
   "file_extension": ".py",
   "mimetype": "text/x-python",
   "name": "python",
   "nbconvert_exporter": "python",
   "pygments_lexer": "ipython3",
   "version": "3.7.1"
  }
 },
 "nbformat": 4,
 "nbformat_minor": 4
}
